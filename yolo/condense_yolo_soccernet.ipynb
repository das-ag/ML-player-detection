{
 "cells": [
  {
   "cell_type": "code",
   "execution_count": null,
   "metadata": {},
   "outputs": [
    {
     "name": "stdout",
     "output_type": "stream",
     "text": [
      "Found 57 train sequences:\n",
      "Keeping 570 files, deleting 570 image files\n"
     ]
    },
    {
     "name": "stdout",
     "output_type": "stream",
     "text": [
      "Operation cancelled\n",
      "Deletion completed\n",
      "Done\n"
     ]
    },
    {
     "ename": "",
     "evalue": "",
     "output_type": "error",
     "traceback": [
      "\u001b[1;31mThe Kernel crashed while executing code in the current cell or a previous cell. \n",
      "\u001b[1;31mPlease review the code in the cell(s) to identify a possible cause of the failure. \n",
      "\u001b[1;31mClick <a href='https://aka.ms/vscodeJupyterKernelCrash'>here</a> for more info. \n",
      "\u001b[1;31mView Jupyter <a href='command:jupyter.viewOutput'>log</a> for further details."
     ]
    }
   ],
   "source": [
    "\n",
    "import os\n",
    "import random\n",
    "import re\n",
    "import shutil\n",
    "import glob\n",
    "from pathlib import Path\n",
    "\n",
    "\n",
    "num_frames = 10\n",
    "\n",
    "train_dir = \"../soccernet_data/tracking/train\"\n",
    "train_sequences = []\n",
    "train_sequences = [d for d in os.listdir(train_dir) if os.path.isdir(os.path.join(train_dir, d))]\n",
    "sequences = train_sequences\n",
    "print(f\"Found {len(train_sequences)} train sequences:\")\n",
    "\n",
    "\n",
    "\n",
    "base_dir = \"soccernet_data_yolo_condensed\"\n",
    "train_images_dir = os.path.join(base_dir, \"train\", \"images\")\n",
    "train_labels_dir = os.path.join(base_dir, \"train\", \"labels\")\n",
    "\n",
    "\n",
    "if not os.path.exists(train_images_dir):\n",
    "    print(f\"Error: Directory not found: {train_images_dir}\")\n",
    "    exit(1)\n",
    "if not os.path.exists(train_labels_dir):\n",
    "    print(f\"Error: Directory not found: {train_labels_dir}\")\n",
    "    exit(1)\n",
    "\n",
    "\n",
    "image_files = os.listdir(train_images_dir)\n",
    "image_files = [f for f in image_files if f.endswith('.jpg')]\n",
    "\n",
    "\n",
    "files_to_keep = []\n",
    "files_to_delete_images = []\n",
    "files_to_delete_labels = []\n",
    "\n",
    "\n",
    "for seq_id in sequences:\n",
    "    \n",
    "    seq_images = [f for f in image_files if f.startswith(f\"{seq_id}_\")]\n",
    "    \n",
    "    if len(seq_images) <= num_frames:\n",
    "        print(f\"Warning: Sequence {seq_id} has only {len(seq_images)} frames (keeping all)\")\n",
    "        files_to_keep.extend(seq_images)\n",
    "        continue\n",
    "    \n",
    "   \n",
    "    frames_to_keep = random.sample(seq_images, num_frames)\n",
    "    files_to_keep.extend(frames_to_keep)\n",
    "    \n",
    "    \n",
    "    for img in seq_images:\n",
    "        if img not in frames_to_keep:\n",
    "            files_to_delete_images.append(img)\n",
    "            \n",
    "            \n",
    "            label_file = img.replace('.jpg', '.txt')\n",
    "            files_to_delete_labels.append(label_file)\n",
    "\n",
    "\n",
    "if len(files_to_delete_images) > 0:\n",
    "    print(f\"Keeping {len(files_to_keep)} files, deleting {len(files_to_delete_images)} image files\")\n",
    "    \n",
    "    confirm = input(f\"Are you sure you want to delete {len(files_to_delete_images)} files? (yes/no): \")\n",
    "    if confirm.lower() != 'yes':\n",
    "        print(\"Operation cancelled\")\n",
    "        exit(0)\n",
    "        \n",
    "    \n",
    "    for file in files_to_delete_images:\n",
    "        file_path = os.path.join(train_images_dir, file)\n",
    "        try:\n",
    "            os.remove(file_path)\n",
    "        except Exception as e:\n",
    "            print(f\"Error deleting {file_path}: {e}\")\n",
    "    \n",
    "    \n",
    "    for file in files_to_delete_labels:\n",
    "        file_path = os.path.join(train_labels_dir, file)\n",
    "        if os.path.exists(file_path):\n",
    "            try:\n",
    "                os.remove(file_path)\n",
    "            except Exception as e:\n",
    "                print(f\"Error deleting {file_path}: {e}\")\n",
    "    \n",
    "    print(\"Deletion completed\")\n",
    "else:\n",
    "    print(\"No files to delete\")\n",
    "\n",
    "print(\"Done\") \n"
   ]
  },
  {
   "cell_type": "code",
   "execution_count": null,
   "metadata": {},
   "outputs": [],
   "source": []
  }
 ],
 "metadata": {
  "kernelspec": {
   "display_name": "ML_FinalProj",
   "language": "python",
   "name": "python3"
  },
  "language_info": {
   "codemirror_mode": {
    "name": "ipython",
    "version": 3
   },
   "file_extension": ".py",
   "mimetype": "text/x-python",
   "name": "python",
   "nbconvert_exporter": "python",
   "pygments_lexer": "ipython3",
   "version": "3.11.11"
  }
 },
 "nbformat": 4,
 "nbformat_minor": 2
}
