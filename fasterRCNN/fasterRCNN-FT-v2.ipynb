{
 "cells": [
  {
   "cell_type": "markdown",
   "id": "35efe6ff",
   "metadata": {},
   "source": [
    "# Notes:\n",
    "\n",
    "v1: used 50 frames from each sequence training dataset for 5 epochs. (tried to use full training dataset, was horrible) \n",
    "\n",
    "v2: attempt to use x random frames each epoch in training. Usually more epochs than 5\n",
    "\n",
    "THIS ONE: \n",
    "* v2.1 - 10f - 50 epochs\n",
    "* v2.1 comparison - 20f - 25 epochs\n",
    "\n"
   ]
  },
  {
   "cell_type": "code",
   "execution_count": 46,
   "id": "32f65e6a",
   "metadata": {},
   "outputs": [
    {
     "data": {
      "text/plain": [
       "0"
      ]
     },
     "execution_count": 46,
     "metadata": {},
     "output_type": "execute_result"
    }
   ],
   "source": [
    "import torch\n",
    "\n",
    "import gc\n",
    "torch.cuda.empty_cache()\n",
    "gc.collect()"
   ]
  },
  {
   "cell_type": "code",
   "execution_count": null,
   "id": "f5bfc7e5",
   "metadata": {},
   "outputs": [],
   "source": [
    "import os\n",
    "import torch\n",
    "import torchvision.transforms as T\n",
    "from PIL import Image\n",
    "from torchvision.ops import box_convert\n",
    "import random\n",
    "from torchvision import transforms\n",
    "\n",
    "    \n",
    "class SoccerNetSubsetDataset(torch.utils.data.Dataset):\n",
    "    def __init__(self, base_dir, frames_per_sequence, transform=None):\n",
    "        self.base_dir = base_dir\n",
    "        self.frames_per_sequence = frames_per_sequence\n",
    "        self.transform = transform if transform else transforms.ToTensor()\n",
    "        self.samples = []\n",
    "\n",
    "        self._load_subset_samples()\n",
    "\n",
    "    def _load_subset_samples(self):\n",
    "        splits = os.listdir(self.base_dir)\n",
    "        for seq_name in sorted(splits):\n",
    "            seq_path = os.path.join(self.base_dir, seq_name)\n",
    "            img_folder = os.path.join(seq_path, \"img1\")\n",
    "            gt_path = os.path.join(seq_path, \"gt\", \"gt.txt\")\n",
    "\n",
    "            if not os.path.exists(img_folder) or not os.path.exists(gt_path):\n",
    "                continue\n",
    "\n",
    "            # Load ground truth annotations\n",
    "            gt_dict = self._load_annotations(gt_path)\n",
    "\n",
    "            # Collect all image filenames\n",
    "            all_imgs = sorted([\n",
    "                f for f in os.listdir(img_folder)\n",
    "                if f.endswith(\".jpg\") or f.endswith(\".png\")\n",
    "            ])\n",
    "\n",
    "            # Sample up to frames_per_sequence images\n",
    "            sampled_imgs = random.sample(all_imgs, min(self.frames_per_sequence, len(all_imgs)))\n",
    "\n",
    "            for img_name in sampled_imgs:\n",
    "                frame_id = int(img_name.split(\".\")[0])\n",
    "                boxes, labels = gt_dict.get(frame_id, ([], []))\n",
    "                if boxes:\n",
    "                    self.samples.append({\n",
    "                        \"img_path\": os.path.join(img_folder, img_name),\n",
    "                        \"boxes\": boxes,\n",
    "                        \"labels\": labels\n",
    "                    })\n",
    "\n",
    "    def _load_annotations(self, gt_path):\n",
    "        gt_dict = {}\n",
    "        with open(gt_path, \"r\") as f:\n",
    "            for line in f:\n",
    "                parts = line.strip().split(\",\")\n",
    "                frame, _, x, y, w, h, cls, _, _ = map(int, parts[:9])\n",
    "                box = [x, y, x + w, y + h]\n",
    "                if frame not in gt_dict:\n",
    "                    gt_dict[frame] = ([], [])\n",
    "                gt_dict[frame][0].append(box)\n",
    "                gt_dict[frame][1].append(1)  # Assuming class \"1\" for player\n",
    "        return gt_dict\n",
    "\n",
    "    def __len__(self):\n",
    "        return len(self.samples)\n",
    "\n",
    "    def __getitem__(self, idx):\n",
    "        sample = self.samples[idx]\n",
    "        image = Image.open(sample[\"img_path\"]).convert(\"RGB\")\n",
    "        image = self.transform(image)\n",
    "\n",
    "        boxes = torch.tensor(sample[\"boxes\"], dtype=torch.float32)\n",
    "        labels = torch.tensor(sample[\"labels\"], dtype=torch.int64)\n",
    "\n",
    "        target = {\"boxes\": boxes, \"labels\": labels}\n",
    "        return image, target\n",
    "\n",
    "def fix_targets(targets):\n",
    "    fixed = []\n",
    "    for target in targets:\n",
    "        boxes = target[\"boxes\"]\n",
    "        keep = (boxes[:, 2] > boxes[:, 0]) & (boxes[:, 3] > boxes[:, 1])\n",
    "        target[\"boxes\"] = boxes[keep]\n",
    "        target[\"labels\"] = target[\"labels\"][keep]\n",
    "        fixed.append(target)\n",
    "    return fixed\n",
    "\n"
   ]
  },
  {
   "cell_type": "code",
   "execution_count": null,
   "id": "d5acd6ea",
   "metadata": {},
   "outputs": [
    {
     "name": "stderr",
     "output_type": "stream",
     "text": [
      "/home/bada/anaconda3/envs/practice/lib/python3.10/site-packages/torchvision/models/_utils.py:208: UserWarning: The parameter 'pretrained' is deprecated since 0.13 and may be removed in the future, please use 'weights' instead.\n",
      "  warnings.warn(\n",
      "/home/bada/anaconda3/envs/practice/lib/python3.10/site-packages/torchvision/models/_utils.py:223: UserWarning: Arguments other than a weight enum or `None` for 'weights' are deprecated since 0.13 and may be removed in the future. The current behavior is equivalent to passing `weights=FasterRCNN_ResNet50_FPN_Weights.COCO_V1`. You can also use `weights=FasterRCNN_ResNet50_FPN_Weights.DEFAULT` to get the most up-to-date weights.\n",
      "  warnings.warn(msg)\n",
      "Epoch 1/50: 100%|██████████| 143/143 [00:52<00:00,  2.74it/s]\n"
     ]
    },
    {
     "name": "stdout",
     "output_type": "stream",
     "text": [
      "Epoch 1 Average Loss: 0.9324\n"
     ]
    },
    {
     "name": "stderr",
     "output_type": "stream",
     "text": [
      "Epoch 2/50: 100%|██████████| 143/143 [00:51<00:00,  2.77it/s]\n"
     ]
    },
    {
     "name": "stdout",
     "output_type": "stream",
     "text": [
      "Epoch 2 Average Loss: 0.7461\n"
     ]
    },
    {
     "name": "stderr",
     "output_type": "stream",
     "text": [
      "Epoch 3/50: 100%|██████████| 143/143 [00:51<00:00,  2.75it/s]\n"
     ]
    },
    {
     "name": "stdout",
     "output_type": "stream",
     "text": [
      "Epoch 3 Average Loss: 0.6880\n"
     ]
    },
    {
     "name": "stderr",
     "output_type": "stream",
     "text": [
      "Epoch 4/50: 100%|██████████| 143/143 [00:51<00:00,  2.75it/s]\n"
     ]
    },
    {
     "name": "stdout",
     "output_type": "stream",
     "text": [
      "Epoch 4 Average Loss: 0.6515\n"
     ]
    },
    {
     "name": "stderr",
     "output_type": "stream",
     "text": [
      "Epoch 5/50: 100%|██████████| 143/143 [00:52<00:00,  2.74it/s]\n"
     ]
    },
    {
     "name": "stdout",
     "output_type": "stream",
     "text": [
      "Epoch 5 Average Loss: 0.6172\n"
     ]
    },
    {
     "name": "stderr",
     "output_type": "stream",
     "text": [
      "Epoch 6/50: 100%|██████████| 143/143 [00:52<00:00,  2.74it/s]\n"
     ]
    },
    {
     "name": "stdout",
     "output_type": "stream",
     "text": [
      "Epoch 6 Average Loss: 0.6016\n"
     ]
    },
    {
     "name": "stderr",
     "output_type": "stream",
     "text": [
      "Epoch 7/50: 100%|██████████| 143/143 [00:52<00:00,  2.73it/s]\n"
     ]
    },
    {
     "name": "stdout",
     "output_type": "stream",
     "text": [
      "Epoch 7 Average Loss: 0.5742\n"
     ]
    },
    {
     "name": "stderr",
     "output_type": "stream",
     "text": [
      "Epoch 8/50: 100%|██████████| 143/143 [00:52<00:00,  2.72it/s]\n"
     ]
    },
    {
     "name": "stdout",
     "output_type": "stream",
     "text": [
      "Epoch 8 Average Loss: 0.5565\n"
     ]
    },
    {
     "name": "stderr",
     "output_type": "stream",
     "text": [
      "Epoch 9/50: 100%|██████████| 143/143 [00:52<00:00,  2.71it/s]\n"
     ]
    },
    {
     "name": "stdout",
     "output_type": "stream",
     "text": [
      "Epoch 9 Average Loss: 0.5323\n"
     ]
    },
    {
     "name": "stderr",
     "output_type": "stream",
     "text": [
      "Epoch 10/50: 100%|██████████| 143/143 [00:52<00:00,  2.71it/s]\n"
     ]
    },
    {
     "name": "stdout",
     "output_type": "stream",
     "text": [
      "Epoch 10 Average Loss: 0.5122\n"
     ]
    },
    {
     "name": "stderr",
     "output_type": "stream",
     "text": [
      "Epoch 11/50: 100%|██████████| 143/143 [00:53<00:00,  2.68it/s]\n"
     ]
    },
    {
     "name": "stdout",
     "output_type": "stream",
     "text": [
      "Epoch 11 Average Loss: 0.4967\n"
     ]
    },
    {
     "name": "stderr",
     "output_type": "stream",
     "text": [
      "Epoch 12/50: 100%|██████████| 143/143 [00:53<00:00,  2.68it/s]\n"
     ]
    },
    {
     "name": "stdout",
     "output_type": "stream",
     "text": [
      "Epoch 12 Average Loss: 0.4795\n"
     ]
    },
    {
     "name": "stderr",
     "output_type": "stream",
     "text": [
      "Epoch 13/50: 100%|██████████| 143/143 [00:53<00:00,  2.67it/s]\n"
     ]
    },
    {
     "name": "stdout",
     "output_type": "stream",
     "text": [
      "Epoch 13 Average Loss: 0.4621\n"
     ]
    },
    {
     "name": "stderr",
     "output_type": "stream",
     "text": [
      "Epoch 14/50: 100%|██████████| 143/143 [00:53<00:00,  2.68it/s]\n"
     ]
    },
    {
     "name": "stdout",
     "output_type": "stream",
     "text": [
      "Epoch 14 Average Loss: 0.4421\n"
     ]
    },
    {
     "name": "stderr",
     "output_type": "stream",
     "text": [
      "Epoch 15/50: 100%|██████████| 143/143 [00:53<00:00,  2.67it/s]\n"
     ]
    },
    {
     "name": "stdout",
     "output_type": "stream",
     "text": [
      "Epoch 15 Average Loss: 0.4257\n"
     ]
    },
    {
     "name": "stderr",
     "output_type": "stream",
     "text": [
      "Epoch 16/50: 100%|██████████| 143/143 [00:53<00:00,  2.67it/s]\n"
     ]
    },
    {
     "name": "stdout",
     "output_type": "stream",
     "text": [
      "Epoch 16 Average Loss: 0.4196\n"
     ]
    },
    {
     "name": "stderr",
     "output_type": "stream",
     "text": [
      "Epoch 17/50: 100%|██████████| 143/143 [00:53<00:00,  2.67it/s]\n"
     ]
    },
    {
     "name": "stdout",
     "output_type": "stream",
     "text": [
      "Epoch 17 Average Loss: 0.3951\n"
     ]
    },
    {
     "name": "stderr",
     "output_type": "stream",
     "text": [
      "Epoch 18/50: 100%|██████████| 143/143 [00:53<00:00,  2.66it/s]\n"
     ]
    },
    {
     "name": "stdout",
     "output_type": "stream",
     "text": [
      "Epoch 18 Average Loss: 0.3853\n"
     ]
    },
    {
     "name": "stderr",
     "output_type": "stream",
     "text": [
      "Epoch 19/50: 100%|██████████| 143/143 [00:53<00:00,  2.66it/s]\n"
     ]
    },
    {
     "name": "stdout",
     "output_type": "stream",
     "text": [
      "Epoch 19 Average Loss: 0.3655\n"
     ]
    },
    {
     "name": "stderr",
     "output_type": "stream",
     "text": [
      "Epoch 20/50: 100%|██████████| 143/143 [00:53<00:00,  2.67it/s]\n"
     ]
    },
    {
     "name": "stdout",
     "output_type": "stream",
     "text": [
      "Epoch 20 Average Loss: 0.3536\n"
     ]
    },
    {
     "name": "stderr",
     "output_type": "stream",
     "text": [
      "Epoch 21/50: 100%|██████████| 143/143 [00:53<00:00,  2.65it/s]\n"
     ]
    },
    {
     "name": "stdout",
     "output_type": "stream",
     "text": [
      "Epoch 21 Average Loss: 0.3364\n"
     ]
    },
    {
     "name": "stderr",
     "output_type": "stream",
     "text": [
      "Epoch 22/50: 100%|██████████| 143/143 [00:53<00:00,  2.67it/s]\n"
     ]
    },
    {
     "name": "stdout",
     "output_type": "stream",
     "text": [
      "Epoch 22 Average Loss: 0.3350\n"
     ]
    },
    {
     "name": "stderr",
     "output_type": "stream",
     "text": [
      "Epoch 23/50: 100%|██████████| 143/143 [00:53<00:00,  2.67it/s]\n"
     ]
    },
    {
     "name": "stdout",
     "output_type": "stream",
     "text": [
      "Epoch 23 Average Loss: 0.3151\n"
     ]
    },
    {
     "name": "stderr",
     "output_type": "stream",
     "text": [
      "Epoch 24/50: 100%|██████████| 143/143 [00:53<00:00,  2.68it/s]\n"
     ]
    },
    {
     "name": "stdout",
     "output_type": "stream",
     "text": [
      "Epoch 24 Average Loss: 0.3031\n"
     ]
    },
    {
     "name": "stderr",
     "output_type": "stream",
     "text": [
      "Epoch 25/50: 100%|██████████| 143/143 [00:53<00:00,  2.66it/s]\n"
     ]
    },
    {
     "name": "stdout",
     "output_type": "stream",
     "text": [
      "Epoch 25 Average Loss: 0.2885\n"
     ]
    },
    {
     "name": "stderr",
     "output_type": "stream",
     "text": [
      "Epoch 26/50: 100%|██████████| 143/143 [00:53<00:00,  2.66it/s]\n"
     ]
    },
    {
     "name": "stdout",
     "output_type": "stream",
     "text": [
      "Epoch 26 Average Loss: 0.3025\n"
     ]
    },
    {
     "name": "stderr",
     "output_type": "stream",
     "text": [
      "Epoch 27/50: 100%|██████████| 143/143 [00:53<00:00,  2.66it/s]\n"
     ]
    },
    {
     "name": "stdout",
     "output_type": "stream",
     "text": [
      "Epoch 27 Average Loss: 0.2863\n"
     ]
    },
    {
     "name": "stderr",
     "output_type": "stream",
     "text": [
      "Epoch 28/50: 100%|██████████| 143/143 [00:54<00:00,  2.65it/s]\n"
     ]
    },
    {
     "name": "stdout",
     "output_type": "stream",
     "text": [
      "Epoch 28 Average Loss: 0.2749\n"
     ]
    },
    {
     "name": "stderr",
     "output_type": "stream",
     "text": [
      "Epoch 29/50: 100%|██████████| 143/143 [00:53<00:00,  2.65it/s]\n"
     ]
    },
    {
     "name": "stdout",
     "output_type": "stream",
     "text": [
      "Epoch 29 Average Loss: 0.2637\n"
     ]
    },
    {
     "name": "stderr",
     "output_type": "stream",
     "text": [
      "Epoch 30/50: 100%|██████████| 143/143 [00:54<00:00,  2.62it/s]\n"
     ]
    },
    {
     "name": "stdout",
     "output_type": "stream",
     "text": [
      "Epoch 30 Average Loss: 0.2649\n"
     ]
    },
    {
     "name": "stderr",
     "output_type": "stream",
     "text": [
      "Epoch 31/50: 100%|██████████| 143/143 [00:54<00:00,  2.62it/s]\n"
     ]
    },
    {
     "name": "stdout",
     "output_type": "stream",
     "text": [
      "Epoch 31 Average Loss: 0.2530\n"
     ]
    },
    {
     "name": "stderr",
     "output_type": "stream",
     "text": [
      "Epoch 32/50: 100%|██████████| 143/143 [00:54<00:00,  2.64it/s]\n"
     ]
    },
    {
     "name": "stdout",
     "output_type": "stream",
     "text": [
      "Epoch 32 Average Loss: 0.2479\n"
     ]
    },
    {
     "name": "stderr",
     "output_type": "stream",
     "text": [
      "Epoch 33/50: 100%|██████████| 143/143 [00:54<00:00,  2.64it/s]\n"
     ]
    },
    {
     "name": "stdout",
     "output_type": "stream",
     "text": [
      "Epoch 33 Average Loss: 0.2411\n"
     ]
    },
    {
     "name": "stderr",
     "output_type": "stream",
     "text": [
      "Epoch 34/50: 100%|██████████| 143/143 [00:54<00:00,  2.64it/s]\n"
     ]
    },
    {
     "name": "stdout",
     "output_type": "stream",
     "text": [
      "Epoch 34 Average Loss: 0.2320\n"
     ]
    },
    {
     "name": "stderr",
     "output_type": "stream",
     "text": [
      "Epoch 35/50: 100%|██████████| 143/143 [00:54<00:00,  2.63it/s]\n"
     ]
    },
    {
     "name": "stdout",
     "output_type": "stream",
     "text": [
      "Epoch 35 Average Loss: 0.2372\n"
     ]
    },
    {
     "name": "stderr",
     "output_type": "stream",
     "text": [
      "Epoch 36/50: 100%|██████████| 143/143 [00:54<00:00,  2.63it/s]\n"
     ]
    },
    {
     "name": "stdout",
     "output_type": "stream",
     "text": [
      "Epoch 36 Average Loss: 0.2277\n"
     ]
    },
    {
     "name": "stderr",
     "output_type": "stream",
     "text": [
      "Epoch 37/50: 100%|██████████| 143/143 [00:54<00:00,  2.64it/s]\n"
     ]
    },
    {
     "name": "stdout",
     "output_type": "stream",
     "text": [
      "Epoch 37 Average Loss: 0.2257\n"
     ]
    },
    {
     "name": "stderr",
     "output_type": "stream",
     "text": [
      "Epoch 38/50: 100%|██████████| 143/143 [00:54<00:00,  2.62it/s]\n"
     ]
    },
    {
     "name": "stdout",
     "output_type": "stream",
     "text": [
      "Epoch 38 Average Loss: 0.2266\n"
     ]
    },
    {
     "name": "stderr",
     "output_type": "stream",
     "text": [
      "Epoch 39/50: 100%|██████████| 143/143 [00:54<00:00,  2.63it/s]\n"
     ]
    },
    {
     "name": "stdout",
     "output_type": "stream",
     "text": [
      "Epoch 39 Average Loss: 0.2198\n"
     ]
    },
    {
     "name": "stderr",
     "output_type": "stream",
     "text": [
      "Epoch 40/50: 100%|██████████| 143/143 [00:54<00:00,  2.62it/s]\n"
     ]
    },
    {
     "name": "stdout",
     "output_type": "stream",
     "text": [
      "Epoch 40 Average Loss: 0.2189\n"
     ]
    },
    {
     "name": "stderr",
     "output_type": "stream",
     "text": [
      "Epoch 41/50: 100%|██████████| 143/143 [00:54<00:00,  2.63it/s]\n"
     ]
    },
    {
     "name": "stdout",
     "output_type": "stream",
     "text": [
      "Epoch 41 Average Loss: 0.2106\n"
     ]
    },
    {
     "name": "stderr",
     "output_type": "stream",
     "text": [
      "Epoch 42/50: 100%|██████████| 143/143 [00:54<00:00,  2.63it/s]\n"
     ]
    },
    {
     "name": "stdout",
     "output_type": "stream",
     "text": [
      "Epoch 42 Average Loss: 0.2103\n"
     ]
    },
    {
     "name": "stderr",
     "output_type": "stream",
     "text": [
      "Epoch 43/50: 100%|██████████| 143/143 [00:54<00:00,  2.63it/s]\n"
     ]
    },
    {
     "name": "stdout",
     "output_type": "stream",
     "text": [
      "Epoch 43 Average Loss: 0.2040\n"
     ]
    },
    {
     "name": "stderr",
     "output_type": "stream",
     "text": [
      "Epoch 44/50: 100%|██████████| 143/143 [00:54<00:00,  2.64it/s]\n"
     ]
    },
    {
     "name": "stdout",
     "output_type": "stream",
     "text": [
      "Epoch 44 Average Loss: 0.1945\n"
     ]
    },
    {
     "name": "stderr",
     "output_type": "stream",
     "text": [
      "Epoch 45/50: 100%|██████████| 143/143 [00:54<00:00,  2.63it/s]\n"
     ]
    },
    {
     "name": "stdout",
     "output_type": "stream",
     "text": [
      "Epoch 45 Average Loss: 0.1961\n"
     ]
    },
    {
     "name": "stderr",
     "output_type": "stream",
     "text": [
      "Epoch 46/50: 100%|██████████| 143/143 [00:54<00:00,  2.63it/s]\n"
     ]
    },
    {
     "name": "stdout",
     "output_type": "stream",
     "text": [
      "Epoch 46 Average Loss: 0.1952\n"
     ]
    },
    {
     "name": "stderr",
     "output_type": "stream",
     "text": [
      "Epoch 47/50: 100%|██████████| 143/143 [00:54<00:00,  2.63it/s]\n"
     ]
    },
    {
     "name": "stdout",
     "output_type": "stream",
     "text": [
      "Epoch 47 Average Loss: 0.1952\n"
     ]
    },
    {
     "name": "stderr",
     "output_type": "stream",
     "text": [
      "Epoch 48/50: 100%|██████████| 143/143 [00:53<00:00,  2.65it/s]\n"
     ]
    },
    {
     "name": "stdout",
     "output_type": "stream",
     "text": [
      "Epoch 48 Average Loss: 0.1954\n"
     ]
    },
    {
     "name": "stderr",
     "output_type": "stream",
     "text": [
      "Epoch 49/50: 100%|██████████| 143/143 [00:53<00:00,  2.65it/s]\n"
     ]
    },
    {
     "name": "stdout",
     "output_type": "stream",
     "text": [
      "Epoch 49 Average Loss: 0.1915\n"
     ]
    },
    {
     "name": "stderr",
     "output_type": "stream",
     "text": [
      "Epoch 50/50: 100%|██████████| 143/143 [00:54<00:00,  2.64it/s]"
     ]
    },
    {
     "name": "stdout",
     "output_type": "stream",
     "text": [
      "Epoch 50 Average Loss: 0.1841\n"
     ]
    },
    {
     "name": "stderr",
     "output_type": "stream",
     "text": [
      "\n"
     ]
    }
   ],
   "source": [
    "from torchvision.models.detection import fasterrcnn_resnet50_fpn\n",
    "from torchvision.models.detection.faster_rcnn import FastRCNNPredictor\n",
    "import torchvision\n",
    "import torch\n",
    "import torchvision.transforms as T\n",
    "from tqdm import tqdm\n",
    "from torch.cuda.amp import GradScaler, autocast\n",
    "\n",
    "# Load model\n",
    "model = fasterrcnn_resnet50_fpn(pretrained=True)\n",
    "model.train()\n",
    "\n",
    "# Freeze backbone except layer4\n",
    "for name, param in model.backbone.body.named_parameters():\n",
    "    if \"layer4\" not in name:\n",
    "        param.requires_grad = False\n",
    "\n",
    "# Replace prediction head\n",
    "in_features = model.roi_heads.box_predictor.cls_score.in_features\n",
    "model.roi_heads.box_predictor = FastRCNNPredictor(in_features, num_classes=2)\n",
    "\n",
    "device = torch.device(\"cuda\" if torch.cuda.is_available() else \"cpu\")\n",
    "model.to(device)\n",
    "\n",
    "# ************************************************************* IMORTANT HYPERPARAMETERS\n",
    "BATCH_SIZE = 4 \n",
    "EPOCHS = 50#10\n",
    "FRAMES_PER_SEQ = 10\n",
    "\n",
    "# Prepare dataset and loader\n",
    "train_dataset = SoccerNetSubsetDataset(\"../soccernet_data/tracking/train\", frames_per_sequence=FRAMES_PER_SEQ)\n",
    "train_loader = torch.utils.data.DataLoader(train_dataset, batch_size=BATCH_SIZE, shuffle=True, collate_fn=lambda x: tuple(zip(*x)))\n",
    "\n",
    "# Optimizer\n",
    "params = [p for p in model.parameters() if p.requires_grad]\n",
    "optimizer = torch.optim.SGD(params, lr=0.005, momentum=0.9, weight_decay=0.0005)\n",
    "scaler = GradScaler()\n",
    "\n",
    "# --- Training loop ---\n",
    "loss_history = []\n",
    "for epoch in range(EPOCHS):\n",
    "    model.train()\n",
    "    total_loss = 0\n",
    "    for images, targets in tqdm(train_loader, desc=f\"Epoch {epoch+1}/{EPOCHS}\"):\n",
    "        images = [img.to(device) for img in images]\n",
    "        targets = [{k: v.to(device) for k, v in t.items()} for t in targets]\n",
    "        targets = fix_targets(targets)\n",
    "        if any(len(t['boxes']) == 0 for t in targets):\n",
    "            continue\n",
    "\n",
    "        optimizer.zero_grad()\n",
    "        with autocast():\n",
    "            loss_dict = model(images, targets)\n",
    "            losses = sum(loss for loss in loss_dict.values())\n",
    "\n",
    "        scaler.scale(losses).backward()\n",
    "        scaler.step(optimizer)\n",
    "        scaler.update()\n",
    "\n",
    "        total_loss += losses.item()\n",
    "\n",
    "    avg_loss = total_loss / len(train_loader)\n",
    "    loss_history.append(avg_loss)\n",
    "    print(f\"Epoch {epoch+1} Average Loss: {avg_loss:.4f}\")\n"
   ]
  },
  {
   "cell_type": "code",
   "execution_count": 14,
   "id": "8202e64e",
   "metadata": {},
   "outputs": [],
   "source": [
    "# Save\n",
    "version = \"v2.1-10frames50epoch\"\n",
    "os.makedirs(\"weights\", exist_ok=True)\n",
    "torch.save(model.state_dict(), f\"weights/fasterrcnn_soccernet_finetuned_{version}.pth\")\n",
    "\n",
    "# Load\n",
    "# model.load_state_dict(torch.load(\"fasterrcnn_soccernet_finetuned.pth\"))\n"
   ]
  },
  {
   "cell_type": "code",
   "execution_count": 17,
   "id": "c7bdd558",
   "metadata": {},
   "outputs": [
    {
     "data": {
      "image/png": "[encoded data removed]",
      "text/plain": [
       "<Figure size 800x500 with 1 Axes>"
      ]
     },
     "metadata": {},
     "output_type": "display_data"
    }
   ],
   "source": [
    "import matplotlib.pyplot as plt\n",
    "\n",
    "titleStr = \"FrCnnV2.1 10frames 50Epochs\"\n",
    "def plot_epoch_losses(epoch_losses):\n",
    "    plt.figure(figsize=(8, 5))\n",
    "    plt.plot(range(1, len(epoch_losses) + 1), epoch_losses, marker='o', linestyle='-')\n",
    "    plt.title(f\"{titleStr}: Training Loss per Epoch\")\n",
    "    plt.xlabel(\"Epoch\")\n",
    "    plt.ylabel(\"Loss\")\n",
    "    plt.grid(True)\n",
    "    plt.xticks(range(1, len(epoch_losses) + 1))\n",
    "    plt.tight_layout()\n",
    "    plt.show()\n",
    "\n",
    "plot_epoch_losses(loss_history)\n",
    "\n"
   ]
  },
  {
   "cell_type": "markdown",
   "id": "77435abc",
   "metadata": {},
   "source": [
    "# evaluation for thresholds -> 0.8, 0.5"
   ]
  },
  {
   "cell_type": "code",
   "execution_count": 18,
   "id": "aa2a7d42",
   "metadata": {},
   "outputs": [
    {
     "name": "stdout",
     "output_type": "stream",
     "text": [
      "Using device: cuda\n",
      "Number of images to sample: 10\n",
      "Score threshold: 0.8\n",
      "IOU threshold: 0.5\n"
     ]
    }
   ],
   "source": [
    "from collections import defaultdict\n",
    "from torchvision.utils import draw_bounding_boxes\n",
    "\n",
    "# --- CONFIG ---\n",
    "DEVICE = torch.device(\"cuda\" if torch.cuda.is_available() else \"cpu\")\n",
    "BASE_DATA_DIR = \"../soccernet_data/tracking/test\"\n",
    "GT_FILENAME = \"gt.txt\"\n",
    "IMAGE_FOLDER = \"img1\"\n",
    "IMAGE_EXTS = ['.jpg', '.png']\n",
    "NUM_OUTPUT_SAMPLE_IMAGES = 10\n",
    "\n",
    "# ************************************************************* IMORTANT HYPERPARAMETERS\n",
    "SCORE_THRESH = 0.8\n",
    "IOU_THRESH = 0.5\n",
    "\n",
    "model.eval()\n",
    "model.to(device)\n",
    "\n",
    "# --- IMAGE PREPROCESSING ---\n",
    "transform = T.Compose([\n",
    "    T.ToTensor(),\n",
    "])\n",
    "\n",
    "def load_gt_boxes(gt_path):\n",
    "    gt_dict = defaultdict(list)\n",
    "    if not os.path.exists(gt_path):\n",
    "        return gt_dict\n",
    "    with open(gt_path, 'r') as f:\n",
    "        for line in f:\n",
    "            parts = line.strip().split(',')\n",
    "            frame, _, x, y, w, h, cls, _, _ = map(int, parts[:9])\n",
    "            box = torch.tensor([x, y, x + w, y + h], device=device)\n",
    "            gt_dict[frame].append(box)\n",
    "    return gt_dict\n",
    "\n",
    "# --- IOU CALCULATION ---\n",
    "def compute_iou(box1, box2):\n",
    "    if box1.size(0) == 0 or box2.size(0) == 0:\n",
    "        return torch.zeros((box1.size(0), box2.size(0)), device=box1.device)\n",
    "    area1 = (box1[:, 2] - box1[:, 0]) * (box1[:, 3] - box1[:, 1])\n",
    "    area2 = (box2[:, 2] - box2[:, 0]) * (box2[:, 3] - box2[:, 1])\n",
    "    lt = torch.max(box1[:, None, :2], box2[:, :2])\n",
    "    rb = torch.min(box1[:, None, 2:], box2[:, 2:])\n",
    "    wh = (rb - lt).clamp(min=0)\n",
    "    inter = wh[:, :, 0] * wh[:, :, 1]\n",
    "    union = area1[:, None] + area2 - inter\n",
    "    iou = inter / union\n",
    "    return iou\n",
    "\n",
    "# --- DRAW DETECTIONS + GT ---\n",
    "def plot_gt_and_detections(image_tensor, detections, gt_boxes, score_thresh=0.8):\n",
    "    boxes = detections['boxes']\n",
    "    scores = detections['scores']\n",
    "    keep = scores > score_thresh\n",
    "    pred_boxes = boxes[keep]\n",
    "\n",
    "    all_boxes = []\n",
    "    labels = []\n",
    "    colors = []\n",
    "\n",
    "    for box in pred_boxes:\n",
    "        all_boxes.append(box)\n",
    "        labels.append(\"pred\")\n",
    "        colors.append(\"red\")\n",
    "\n",
    "    for box in gt_boxes:\n",
    "        all_boxes.append(box)\n",
    "        labels.append(\"gt\")\n",
    "        colors.append(\"green\")\n",
    "\n",
    "    if len(all_boxes) == 0:\n",
    "        return T.ToPILImage()(image_tensor)\n",
    "\n",
    "    all_boxes_tensor = torch.stack(all_boxes).to(\"cpu\")\n",
    "    drawn = draw_bounding_boxes(\n",
    "        (image_tensor * 255).byte().cpu(),\n",
    "        boxes=all_boxes_tensor,\n",
    "        labels=labels,\n",
    "        colors=colors,\n",
    "        width=2\n",
    "    )\n",
    "    return T.ToPILImage()(drawn)\n",
    "\n",
    "import random\n",
    "\n",
    "sequence_usage_frame_count = 30\n",
    "\n",
    "print(\"Using device:\", DEVICE)\n",
    "print(\"Number of images to sample:\", NUM_OUTPUT_SAMPLE_IMAGES)\n",
    "print(\"Score threshold:\", SCORE_THRESH)\n",
    "print(\"IOU threshold:\", IOU_THRESH)"
   ]
  },
  {
   "cell_type": "markdown",
   "id": "7bcc753b",
   "metadata": {},
   "source": [
    "# Evaluated on Testing data"
   ]
  },
  {
   "cell_type": "code",
   "execution_count": 48,
   "id": "613a9e73",
   "metadata": {},
   "outputs": [
    {
     "name": "stdout",
     "output_type": "stream",
     "text": [
      "Processing sequences...\n"
     ]
    },
    {
     "name": "stderr",
     "output_type": "stream",
     "text": [
      "Sequences: 100%|██████████| 49/49 [02:13<00:00,  2.72s/it]"
     ]
    },
    {
     "name": "stdout",
     "output_type": "stream",
     "text": [
      "Number of sampled frames to output: 10\n",
      "Total frames processed: 1470\n",
      "Final metrics:\n",
      "\n",
      "Average Detection Accuracy over 1470 frames: 91.80%\n",
      "Precision: 0.910, Recall: 0.897 frames: 91.80%\n"
     ]
    },
    {
     "name": "stderr",
     "output_type": "stream",
     "text": [
      "\n"
     ]
    }
   ],
   "source": [
    "\n",
    "\n",
    "# --- EXECUTION ---\n",
    "results = []\n",
    "sample_frames = []\n",
    "total_tp = total_fp = total_fn = 0\n",
    "\n",
    "\n",
    "# Only use test sequences\n",
    "seq_dirs = []\n",
    "test_dir = os.path.join(\"../soccernet_data/tracking\", \"test\")\n",
    "if os.path.exists(test_dir):\n",
    "    for d in sorted(os.listdir(test_dir)):\n",
    "        full_path = os.path.join(test_dir, d)\n",
    "        if os.path.isdir(full_path):\n",
    "            seq_dirs.append((\"test\", d))\n",
    "\n",
    "\n",
    "\n",
    "print(\"Processing sequences...\")\n",
    "# Get 30 random frames from each sequence\n",
    "for split, seq_id in tqdm(seq_dirs, desc=\"Sequences\", dynamic_ncols=True):\n",
    "    seq_path = os.path.join(\"../soccernet_data/tracking\", split, seq_id)\n",
    "    img_dir = os.path.join(seq_path, IMAGE_FOLDER)\n",
    "    gt_path = os.path.join(seq_path, \"gt\", GT_FILENAME)\n",
    "    gt_dict = load_gt_boxes(gt_path)\n",
    "\n",
    "    if not os.path.exists(img_dir):\n",
    "        continue\n",
    "\n",
    "    all_img_paths = sorted([\n",
    "        os.path.join(img_dir, file)\n",
    "        for file in os.listdir(img_dir)\n",
    "        if any(file.lower().endswith(ext) for ext in IMAGE_EXTS)\n",
    "    ])\n",
    "\n",
    "    random.shuffle(all_img_paths)  # Shuffle to get random frames\n",
    "    all_img_paths = all_img_paths[:sequence_usage_frame_count]  # Sample random frames from each sequence\n",
    "\n",
    "    for idx, path in enumerate(all_img_paths):\n",
    "        try:\n",
    "            img = Image.open(path).convert(\"RGB\")\n",
    "        except Exception as e:\n",
    "            print(f\"Skipping corrupted image: {path} | Error: {e}\")\n",
    "            continue\n",
    "\n",
    "        img_tensor = transform(img).unsqueeze(0).to(DEVICE)\n",
    "        filename = os.path.basename(path)\n",
    "\n",
    "        try:\n",
    "            frame_id = int(filename.split('.')[0])\n",
    "        except ValueError:\n",
    "            continue\n",
    "        \n",
    "        gt_boxes = gt_dict.get(frame_id, [])\n",
    "\n",
    "        with torch.no_grad():\n",
    "            output = model(img_tensor.to(DEVICE))[0]\n",
    "\n",
    "        pred_boxes = output['boxes'][output['scores'] > SCORE_THRESH]\n",
    "\n",
    "\n",
    "        # Accuracy\n",
    "        if gt_boxes:\n",
    "            gt_tensor = torch.stack(gt_boxes).to(DEVICE)\n",
    "            if len(pred_boxes) > 0:\n",
    "                ious = compute_iou(pred_boxes, gt_tensor)\n",
    "                max_ious = ious.max(dim=1)[0]\n",
    "                acc = (max_ious > IOU_THRESH).float().mean().item()\n",
    "            else:\n",
    "                acc = 0.0\n",
    "        else:\n",
    "            acc = 1.0 if len(pred_boxes) == 0 else 0.0\n",
    "\n",
    "        results.append(acc)\n",
    "\n",
    "\n",
    "        # Precision / Recall\n",
    "        matched_gt = set()\n",
    "        tp = fp = 0\n",
    "        if len(pred_boxes) > 0 and len(gt_boxes) > 0:\n",
    "            gt_tensor = torch.stack(gt_boxes).to(DEVICE)\n",
    "            ious = compute_iou(pred_boxes, gt_tensor)\n",
    "            for i in range(len(pred_boxes)):\n",
    "                max_iou, gt_idx = ious[i].max(0)\n",
    "                if max_iou > IOU_THRESH and gt_idx.item() not in matched_gt:\n",
    "                    tp += 1\n",
    "                    matched_gt.add(gt_idx.item())\n",
    "                else:\n",
    "                    fp += 1\n",
    "        else:\n",
    "            tp = 0\n",
    "            fp = len(pred_boxes)\n",
    "\n",
    "        fn = len(gt_boxes) - len(matched_gt)\n",
    "        total_tp += tp\n",
    "        total_fp += fp\n",
    "        total_fn += fn\n",
    "\n",
    "        # Sampled frames\n",
    "        if len(sample_frames) < NUM_OUTPUT_SAMPLE_IMAGES and seq_id not in [s[0] for s in sample_frames]:\n",
    "            img_vis = plot_gt_and_detections(img_tensor[0], output, gt_boxes)\n",
    "            sample_frames.append((seq_id, filename, img_vis))\n",
    "\n",
    "# --- DISPLAY SUMMARY ---\n",
    "print(f\"Number of sampled frames to output: {len(sample_frames)}\")\n",
    "print(f\"Total frames processed: {len(results)}\")\n",
    "\n",
    "print(\"Final metrics:\")\n",
    "# Final metrics\n",
    "precision = total_tp / (total_tp + total_fp + 1e-6)\n",
    "recall = total_tp / (total_tp + total_fn + 1e-6)\n",
    "avg_acc = sum(results) / len(results) if results else 0\n",
    "print(f\"\\nAverage Detection Accuracy over {len(results)} frames: {avg_acc * 100:.2f}%\")\n",
    "print(f\"Precision: {precision:.3f}, Recall: {recall:.3f} frames: {avg_acc * 100:.2f}%\")\n",
    "\n"
   ]
  },
  {
   "cell_type": "code",
   "execution_count": 49,
   "id": "0adfcc08",
   "metadata": {},
   "outputs": [],
   "source": [
    "\n",
    "# --- SHOW EXAMPLES ---\n",
    "# for seq_id, filename, img in sample_frames:\n",
    "#     plt.imshow(img)\n",
    "#     plt.title(f\"Sequence {seq_id}, Frame {filename}\\nRed = Prediction, Green = Ground Truth\")\n",
    "#     plt.axis(\"off\")\n",
    "#     plt.show()\n",
    "\n",
    "# Save sample frames\n",
    "# os.makedirs(\"sample_frames\", exist_ok=True)\n",
    "os.makedirs(\"8-5-score-iou-threshold/8-5-frcnn-v2.1_10f_50e-new\", exist_ok=True)\n",
    "for seq_id, filename, img in sample_frames:\n",
    "    img.save(os.path.join(\"8-5-score-iou-threshold/8-5-frcnn-v2.1_10f_50e-new\", f\"{seq_id}_{filename}\"))\n",
    "\n",
    "# Save metrics\n",
    "# os.makedirs(\"metrics\", exist_ok=True)\n",
    "with open(\"8-5-score-iou-threshold/8-5-frcnn-v2.1_10f_50e-new/metrics.txt\", \"w\") as f:\n",
    "    f.write(f\"Score Threshold: {SCORE_THRESH}\\n\")\n",
    "    f.write(f\"IOU Threshold: {IOU_THRESH}\\n\")\n",
    "    f.write(f\"Total frames processed: {len(results)}\\n\")\n",
    "    f.write(f\"Average Detection Accuracy: {avg_acc * 100:.2f}%\\n\")\n",
    "    f.write(f\"Precision: {precision:.3f}, Recall: {recall:.3f}\\n\")\n",
    "    f.write(f\"Total TP: {total_tp}, Total FP: {total_fp}, Total FN: {total_fn}\\n\")\n",
    "\n",
    "\n",
    "\n"
   ]
  },
  {
   "cell_type": "markdown",
   "id": "43b82721",
   "metadata": {},
   "source": [
    "# evaluation for thresholds -> 0.5, 0.5"
   ]
  },
  {
   "cell_type": "code",
   "execution_count": null,
   "id": "80a8669d",
   "metadata": {},
   "outputs": [
    {
     "name": "stdout",
     "output_type": "stream",
     "text": [
      "Processing sequences...\n"
     ]
    },
    {
     "name": "stderr",
     "output_type": "stream",
     "text": [
      "Sequences: 100%|██████████| 49/49 [02:10<00:00,  2.67s/it]"
     ]
    },
    {
     "name": "stdout",
     "output_type": "stream",
     "text": [
      "Number of sampled frames to output: 10\n",
      "Total frames processed: 1470\n",
      "Final metrics:\n",
      "\n",
      "Average Detection Accuracy over 1470 frames: 93.09%\n",
      "Precision: 0.918, Recall: 0.918 frames: 93.09%\n"
     ]
    },
    {
     "name": "stderr",
     "output_type": "stream",
     "text": [
      "\n"
     ]
    }
   ],
   "source": [
    "# ************************************************************* IMORTANT HYPERPARAMETERS\n",
    "SCORE_THRESH = 0.5\n",
    "IOU_THRESH = 0.5\n",
    "\n",
    "# --- EXECUTION ---\n",
    "results = []\n",
    "sample_frames = []\n",
    "total_tp = total_fp = total_fn = 0\n",
    "\n",
    "\n",
    "# Only use test sequences\n",
    "seq_dirs = []\n",
    "test_dir = os.path.join(\"../soccernet_data/tracking\", \"test\")\n",
    "if os.path.exists(test_dir):\n",
    "    for d in sorted(os.listdir(test_dir)):\n",
    "        full_path = os.path.join(test_dir, d)\n",
    "        if os.path.isdir(full_path):\n",
    "            seq_dirs.append((\"test\", d))\n",
    "\n",
    "\n",
    "\n",
    "print(\"Processing sequences...\")\n",
    "# Get 30 random frames from each sequence\n",
    "for split, seq_id in tqdm(seq_dirs, desc=\"Sequences\", dynamic_ncols=True):\n",
    "    seq_path = os.path.join(\"../soccernet_data/tracking\", split, seq_id)\n",
    "    img_dir = os.path.join(seq_path, IMAGE_FOLDER)\n",
    "    gt_path = os.path.join(seq_path, \"gt\", GT_FILENAME)\n",
    "    gt_dict = load_gt_boxes(gt_path)\n",
    "\n",
    "    if not os.path.exists(img_dir):\n",
    "        continue\n",
    "\n",
    "    all_img_paths = sorted([\n",
    "        os.path.join(img_dir, file)\n",
    "        for file in os.listdir(img_dir)\n",
    "        if any(file.lower().endswith(ext) for ext in IMAGE_EXTS)\n",
    "    ])\n",
    "\n",
    "    random.shuffle(all_img_paths)  # Shuffle to get random frames\n",
    "    all_img_paths = all_img_paths[:sequence_usage_frame_count]  # Sample random frames from each sequence\n",
    "\n",
    "    for idx, path in enumerate(all_img_paths):\n",
    "        try:\n",
    "            img = Image.open(path).convert(\"RGB\")\n",
    "        except Exception as e:\n",
    "            print(f\"Skipping corrupted image: {path} | Error: {e}\")\n",
    "            continue\n",
    "\n",
    "        img_tensor = transform(img).unsqueeze(0).to(DEVICE)\n",
    "        filename = os.path.basename(path)\n",
    "\n",
    "        try:\n",
    "            frame_id = int(filename.split('.')[0])\n",
    "        except ValueError:\n",
    "            continue\n",
    "        \n",
    "        gt_boxes = gt_dict.get(frame_id, [])\n",
    "\n",
    "        with torch.no_grad():\n",
    "            output = model(img_tensor.to(DEVICE))[0]\n",
    "\n",
    "        pred_boxes = output['boxes'][output['scores'] > SCORE_THRESH]\n",
    "\n",
    "\n",
    "        # Accuracy\n",
    "        if gt_boxes:\n",
    "            gt_tensor = torch.stack(gt_boxes).to(DEVICE)\n",
    "            if len(pred_boxes) > 0:\n",
    "                ious = compute_iou(pred_boxes, gt_tensor)\n",
    "                max_ious = ious.max(dim=1)[0]\n",
    "                acc = (max_ious > IOU_THRESH).float().mean().item()\n",
    "            else:\n",
    "                acc = 0.0\n",
    "        else:\n",
    "            acc = 1.0 if len(pred_boxes) == 0 else 0.0\n",
    "\n",
    "        results.append(acc)\n",
    "\n",
    "\n",
    "        # Precision / Recall\n",
    "        matched_gt = set()\n",
    "        tp = fp = 0\n",
    "        if len(pred_boxes) > 0 and len(gt_boxes) > 0:\n",
    "            gt_tensor = torch.stack(gt_boxes).to(DEVICE)\n",
    "            ious = compute_iou(pred_boxes, gt_tensor)\n",
    "            for i in range(len(pred_boxes)):\n",
    "                max_iou, gt_idx = ious[i].max(0)\n",
    "                if max_iou > IOU_THRESH and gt_idx.item() not in matched_gt:\n",
    "                    tp += 1\n",
    "                    matched_gt.add(gt_idx.item())\n",
    "                else:\n",
    "                    fp += 1\n",
    "        else:\n",
    "            tp = 0\n",
    "            fp = len(pred_boxes)\n",
    "\n",
    "        fn = len(gt_boxes) - len(matched_gt)\n",
    "        total_tp += tp\n",
    "        total_fp += fp\n",
    "        total_fn += fn\n",
    "\n",
    "        # Sampled frames\n",
    "        if len(sample_frames) < NUM_OUTPUT_SAMPLE_IMAGES and seq_id not in [s[0] for s in sample_frames]:\n",
    "            img_vis = plot_gt_and_detections(img_tensor[0], output, gt_boxes)\n",
    "            sample_frames.append((seq_id, filename, img_vis))\n",
    "\n",
    "# --- DISPLAY SUMMARY ---\n",
    "print(f\"Number of sampled frames to output: {len(sample_frames)}\")\n",
    "print(f\"Total frames processed: {len(results)}\")\n",
    "\n",
    "print(\"Final metrics:\")\n",
    "# Final metrics\n",
    "precision = total_tp / (total_tp + total_fp + 1e-6)\n",
    "recall = total_tp / (total_tp + total_fn + 1e-6)\n",
    "avg_acc = sum(results) / len(results) if results else 0\n",
    "print(f\"\\nAverage Detection Accuracy over {len(results)} frames: {avg_acc * 100:.2f}%\")\n",
    "print(f\"Precision: {precision:.3f}, Recall: {recall:.3f} frames: {avg_acc * 100:.2f}%\")\n",
    "\n"
   ]
  },
  {
   "cell_type": "code",
   "execution_count": 28,
   "id": "a163e599",
   "metadata": {},
   "outputs": [],
   "source": [
    "\n",
    "# --- SHOW EXAMPLES ---\n",
    "# for seq_id, filename, img in sample_frames:\n",
    "#     plt.imshow(img)\n",
    "#     plt.title(f\"Sequence {seq_id}, Frame {filename}\\nRed = Prediction, Green = Ground Truth\")\n",
    "#     plt.axis(\"off\")\n",
    "#     plt.show()\n",
    "\n",
    "# Save sample frames\n",
    "# os.makedirs(\"sample_frames\", exist_ok=True)\n",
    "# os.path.exists(\"5-5-frcnn-v2.1_10f_50e\") or os.makedirs(\"5-5-frcnn-v2.1_10f_50e\")\n",
    "os.path.exists(\"5-5-score-iou-threshold/5-5-frcnn-v2.1_10f_50e\") or os.makedirs(\"5-5-score-iou-threshold/5-5-frcnn-v2.1_10f_50e\")\n",
    "for seq_id, filename, img in sample_frames:\n",
    "    img.save(os.path.join(\"5-5-score-iou-threshold/5-5-frcnn-v2.1_10f_50e\", f\"{seq_id}_{filename}\"))\n",
    "\n",
    "# Save metrics\n",
    "# os.makedirs(\"metrics\", exist_ok=True)\n",
    "with open(\"5-5-score-iou-threshold/5-5-frcnn-v2.1_10f_50e/metrics.txt\", \"w\") as f:\n",
    "    f.write(f\"Score Threshold: {SCORE_THRESH}\\n\")\n",
    "    f.write(f\"IOU Threshold: {IOU_THRESH}\\n\")\n",
    "    f.write(f\"Total frames processed: {len(results)}\\n\")\n",
    "    f.write(f\"Average Detection Accuracy: {avg_acc * 100:.2f}%\\n\")\n",
    "    f.write(f\"Precision: {precision:.3f}, Recall: {recall:.3f}\\n\")\n",
    "    f.write(f\"Total TP: {total_tp}, Total FP: {total_fp}, Total FN: {total_fn}\\n\")\n",
    "\n",
    "\n",
    "\n"
   ]
  },
  {
   "cell_type": "markdown",
   "id": "287edd5b",
   "metadata": {},
   "source": [
    "# Training for 20 frames and 25 epochs \n",
    "for -> frcnn-v2.1_20f_25e"
   ]
  },
  {
   "cell_type": "code",
   "execution_count": null,
   "id": "fac941f4",
   "metadata": {},
   "outputs": [
    {
     "name": "stderr",
     "output_type": "stream",
     "text": [
      "/home/bada/anaconda3/envs/practice/lib/python3.10/site-packages/torchvision/models/_utils.py:208: UserWarning: The parameter 'pretrained' is deprecated since 0.13 and may be removed in the future, please use 'weights' instead.\n",
      "  warnings.warn(\n",
      "/home/bada/anaconda3/envs/practice/lib/python3.10/site-packages/torchvision/models/_utils.py:223: UserWarning: Arguments other than a weight enum or `None` for 'weights' are deprecated since 0.13 and may be removed in the future. The current behavior is equivalent to passing `weights=FasterRCNN_ResNet50_FPN_Weights.COCO_V1`. You can also use `weights=FasterRCNN_ResNet50_FPN_Weights.DEFAULT` to get the most up-to-date weights.\n",
      "  warnings.warn(msg)\n",
      "Epoch 1/25: 100%|██████████| 285/285 [01:45<00:00,  2.70it/s]\n"
     ]
    },
    {
     "name": "stdout",
     "output_type": "stream",
     "text": [
      "Epoch 1 Average Loss: 0.8651\n"
     ]
    },
    {
     "name": "stderr",
     "output_type": "stream",
     "text": [
      "Epoch 2/25: 100%|██████████| 285/285 [01:43<00:00,  2.74it/s]\n"
     ]
    },
    {
     "name": "stdout",
     "output_type": "stream",
     "text": [
      "Epoch 2 Average Loss: 0.7316\n"
     ]
    },
    {
     "name": "stderr",
     "output_type": "stream",
     "text": [
      "Epoch 3/25: 100%|██████████| 285/285 [01:44<00:00,  2.73it/s]\n"
     ]
    },
    {
     "name": "stdout",
     "output_type": "stream",
     "text": [
      "Epoch 3 Average Loss: 0.6707\n"
     ]
    },
    {
     "name": "stderr",
     "output_type": "stream",
     "text": [
      "Epoch 4/25: 100%|██████████| 285/285 [01:44<00:00,  2.72it/s]\n"
     ]
    },
    {
     "name": "stdout",
     "output_type": "stream",
     "text": [
      "Epoch 4 Average Loss: 0.6307\n"
     ]
    },
    {
     "name": "stderr",
     "output_type": "stream",
     "text": [
      "Epoch 5/25: 100%|██████████| 285/285 [01:45<00:00,  2.70it/s]\n"
     ]
    },
    {
     "name": "stdout",
     "output_type": "stream",
     "text": [
      "Epoch 5 Average Loss: 0.5993\n"
     ]
    },
    {
     "name": "stderr",
     "output_type": "stream",
     "text": [
      "Epoch 6/25: 100%|██████████| 285/285 [01:45<00:00,  2.70it/s]\n"
     ]
    },
    {
     "name": "stdout",
     "output_type": "stream",
     "text": [
      "Epoch 6 Average Loss: 0.5810\n"
     ]
    },
    {
     "name": "stderr",
     "output_type": "stream",
     "text": [
      "Epoch 7/25: 100%|██████████| 285/285 [01:47<00:00,  2.66it/s]\n"
     ]
    },
    {
     "name": "stdout",
     "output_type": "stream",
     "text": [
      "Epoch 7 Average Loss: 0.5534\n"
     ]
    },
    {
     "name": "stderr",
     "output_type": "stream",
     "text": [
      "Epoch 8/25: 100%|██████████| 285/285 [01:48<00:00,  2.62it/s]\n"
     ]
    },
    {
     "name": "stdout",
     "output_type": "stream",
     "text": [
      "Epoch 8 Average Loss: 0.5334\n"
     ]
    },
    {
     "name": "stderr",
     "output_type": "stream",
     "text": [
      "Epoch 9/25: 100%|██████████| 285/285 [01:47<00:00,  2.64it/s]\n"
     ]
    },
    {
     "name": "stdout",
     "output_type": "stream",
     "text": [
      "Epoch 9 Average Loss: 0.5145\n"
     ]
    },
    {
     "name": "stderr",
     "output_type": "stream",
     "text": [
      "Epoch 10/25: 100%|██████████| 285/285 [01:48<00:00,  2.62it/s]\n"
     ]
    },
    {
     "name": "stdout",
     "output_type": "stream",
     "text": [
      "Epoch 10 Average Loss: 0.4977\n"
     ]
    },
    {
     "name": "stderr",
     "output_type": "stream",
     "text": [
      "Epoch 11/25: 100%|██████████| 285/285 [01:48<00:00,  2.62it/s]\n"
     ]
    },
    {
     "name": "stdout",
     "output_type": "stream",
     "text": [
      "Epoch 11 Average Loss: 0.4793\n"
     ]
    },
    {
     "name": "stderr",
     "output_type": "stream",
     "text": [
      "Epoch 12/25: 100%|██████████| 285/285 [01:49<00:00,  2.61it/s]\n"
     ]
    },
    {
     "name": "stdout",
     "output_type": "stream",
     "text": [
      "Epoch 12 Average Loss: 0.4582\n"
     ]
    },
    {
     "name": "stderr",
     "output_type": "stream",
     "text": [
      "Epoch 13/25: 100%|██████████| 285/285 [01:48<00:00,  2.62it/s]\n"
     ]
    },
    {
     "name": "stdout",
     "output_type": "stream",
     "text": [
      "Epoch 13 Average Loss: 0.4413\n"
     ]
    },
    {
     "name": "stderr",
     "output_type": "stream",
     "text": [
      "Epoch 14/25: 100%|██████████| 285/285 [01:48<00:00,  2.62it/s]\n"
     ]
    },
    {
     "name": "stdout",
     "output_type": "stream",
     "text": [
      "Epoch 14 Average Loss: 0.4241\n"
     ]
    },
    {
     "name": "stderr",
     "output_type": "stream",
     "text": [
      "Epoch 15/25: 100%|██████████| 285/285 [01:48<00:00,  2.63it/s]\n"
     ]
    },
    {
     "name": "stdout",
     "output_type": "stream",
     "text": [
      "Epoch 15 Average Loss: 0.4079\n"
     ]
    },
    {
     "name": "stderr",
     "output_type": "stream",
     "text": [
      "Epoch 16/25: 100%|██████████| 285/285 [01:47<00:00,  2.65it/s]\n"
     ]
    },
    {
     "name": "stdout",
     "output_type": "stream",
     "text": [
      "Epoch 16 Average Loss: 0.3892\n"
     ]
    },
    {
     "name": "stderr",
     "output_type": "stream",
     "text": [
      "Epoch 17/25: 100%|██████████| 285/285 [01:47<00:00,  2.65it/s]\n"
     ]
    },
    {
     "name": "stdout",
     "output_type": "stream",
     "text": [
      "Epoch 17 Average Loss: 0.3857\n"
     ]
    },
    {
     "name": "stderr",
     "output_type": "stream",
     "text": [
      "Epoch 18/25: 100%|██████████| 285/285 [01:47<00:00,  2.66it/s]\n"
     ]
    },
    {
     "name": "stdout",
     "output_type": "stream",
     "text": [
      "Epoch 18 Average Loss: 0.3665\n"
     ]
    },
    {
     "name": "stderr",
     "output_type": "stream",
     "text": [
      "Epoch 19/25: 100%|██████████| 285/285 [01:47<00:00,  2.66it/s]\n"
     ]
    },
    {
     "name": "stdout",
     "output_type": "stream",
     "text": [
      "Epoch 19 Average Loss: 0.3516\n"
     ]
    },
    {
     "name": "stderr",
     "output_type": "stream",
     "text": [
      "Epoch 20/25: 100%|██████████| 285/285 [01:46<00:00,  2.66it/s]\n"
     ]
    },
    {
     "name": "stdout",
     "output_type": "stream",
     "text": [
      "Epoch 20 Average Loss: 0.3357\n"
     ]
    },
    {
     "name": "stderr",
     "output_type": "stream",
     "text": [
      "Epoch 21/25: 100%|██████████| 285/285 [01:47<00:00,  2.66it/s]\n"
     ]
    },
    {
     "name": "stdout",
     "output_type": "stream",
     "text": [
      "Epoch 21 Average Loss: 0.3287\n"
     ]
    },
    {
     "name": "stderr",
     "output_type": "stream",
     "text": [
      "Epoch 22/25: 100%|██████████| 285/285 [01:46<00:00,  2.67it/s]\n"
     ]
    },
    {
     "name": "stdout",
     "output_type": "stream",
     "text": [
      "Epoch 22 Average Loss: 0.3195\n"
     ]
    },
    {
     "name": "stderr",
     "output_type": "stream",
     "text": [
      "Epoch 23/25: 100%|██████████| 285/285 [01:46<00:00,  2.67it/s]\n"
     ]
    },
    {
     "name": "stdout",
     "output_type": "stream",
     "text": [
      "Epoch 23 Average Loss: 0.3033\n"
     ]
    },
    {
     "name": "stderr",
     "output_type": "stream",
     "text": [
      "Epoch 24/25: 100%|██████████| 285/285 [01:47<00:00,  2.66it/s]\n"
     ]
    },
    {
     "name": "stdout",
     "output_type": "stream",
     "text": [
      "Epoch 24 Average Loss: 0.2984\n"
     ]
    },
    {
     "name": "stderr",
     "output_type": "stream",
     "text": [
      "Epoch 25/25: 100%|██████████| 285/285 [01:46<00:00,  2.67it/s]"
     ]
    },
    {
     "name": "stdout",
     "output_type": "stream",
     "text": [
      "Epoch 25 Average Loss: 0.2871\n"
     ]
    },
    {
     "name": "stderr",
     "output_type": "stream",
     "text": [
      "\n"
     ]
    }
   ],
   "source": [
    "\n",
    "# Load model\n",
    "model = fasterrcnn_resnet50_fpn(pretrained=True)\n",
    "model.train()\n",
    "\n",
    "# Freeze backbone except layer4\n",
    "for name, param in model.backbone.body.named_parameters():\n",
    "    if \"layer4\" not in name:\n",
    "        param.requires_grad = False\n",
    "\n",
    "# Replace prediction head\n",
    "in_features = model.roi_heads.box_predictor.cls_score.in_features\n",
    "model.roi_heads.box_predictor = FastRCNNPredictor(in_features, num_classes=2)\n",
    "\n",
    "device = torch.device(\"cuda\" if torch.cuda.is_available() else \"cpu\")\n",
    "model.to(device)\n",
    "\n",
    "\n",
    "# ************************************************************* IMORTANT HYPERPARAMETERS\n",
    "BATCH_SIZE = 4 \n",
    "EPOCHS = 25#10\n",
    "FRAMES_PER_SEQ = 20\n",
    "\n",
    "# Prepare dataset and loader\n",
    "train_dataset = SoccerNetSubsetDataset(\"../soccernet_data/tracking/train\", frames_per_sequence=FRAMES_PER_SEQ)\n",
    "train_loader = torch.utils.data.DataLoader(train_dataset, batch_size=BATCH_SIZE, shuffle=True, collate_fn=lambda x: tuple(zip(*x)))\n",
    "\n",
    "# Optimizer\n",
    "params = [p for p in model.parameters() if p.requires_grad]\n",
    "optimizer = torch.optim.SGD(params, lr=0.005, momentum=0.9, weight_decay=0.0005)\n",
    "scaler = GradScaler()\n",
    "\n",
    "# --- Training loop ---\n",
    "loss_history = []\n",
    "for epoch in range(EPOCHS):\n",
    "    model.train()\n",
    "    total_loss = 0\n",
    "    for images, targets in tqdm(train_loader, desc=f\"Epoch {epoch+1}/{EPOCHS}\"):\n",
    "        images = [img.to(device) for img in images]\n",
    "        targets = [{k: v.to(device) for k, v in t.items()} for t in targets]\n",
    "        targets = fix_targets(targets)\n",
    "        if any(len(t['boxes']) == 0 for t in targets):\n",
    "            continue\n",
    "\n",
    "        optimizer.zero_grad()\n",
    "        with autocast():\n",
    "            loss_dict = model(images, targets)\n",
    "            losses = sum(loss for loss in loss_dict.values())\n",
    "\n",
    "        scaler.scale(losses).backward()\n",
    "        scaler.step(optimizer)\n",
    "        scaler.update()\n",
    "\n",
    "        total_loss += losses.item()\n",
    "\n",
    "    avg_loss = total_loss / len(train_loader)\n",
    "    loss_history.append(avg_loss)\n",
    "    print(f\"Epoch {epoch+1} Average Loss: {avg_loss:.4f}\")\n"
   ]
  },
  {
   "cell_type": "code",
   "execution_count": 32,
   "id": "81f1c9cc",
   "metadata": {},
   "outputs": [],
   "source": [
    "# frcnn-v2.1_20f_25e\n",
    "\n",
    "# Save\n",
    "version = \"v2.1-20frames25epoch\"\n",
    "os.makedirs(\"weights\", exist_ok=True)\n",
    "torch.save(model.state_dict(), f\"weights/fasterrcnn_soccernet_finetuned_{version}.pth\")\n",
    "\n",
    "# Load\n",
    "# model.load_state_dict(torch.load(\"fasterrcnn_soccernet_finetuned.pth\"))\n",
    "\n"
   ]
  },
  {
   "cell_type": "code",
   "execution_count": 31,
   "id": "b813e0e3",
   "metadata": {},
   "outputs": [
    {
     "data": {
      "image/png": "[encoded data removed]",
      "text/plain": [
       "<Figure size 800x500 with 1 Axes>"
      ]
     },
     "metadata": {},
     "output_type": "display_data"
    }
   ],
   "source": [
    "import matplotlib.pyplot as plt\n",
    "\n",
    "titleStr = \"FrCnnV2.1 20frames 25Epochs\"\n",
    "def plot_epoch_losses(epoch_losses):\n",
    "    plt.figure(figsize=(8, 5))\n",
    "    plt.plot(range(1, len(epoch_losses) + 1), epoch_losses, marker='o', linestyle='-')\n",
    "    plt.title(f\"{titleStr}: Training Loss per Epoch\")\n",
    "    plt.xlabel(\"Epoch\")\n",
    "    plt.ylabel(\"Loss\")\n",
    "    plt.grid(True)\n",
    "    plt.xticks(range(1, len(epoch_losses) + 1))\n",
    "    plt.tight_layout()\n",
    "    plt.show()\n",
    "\n",
    "plot_epoch_losses(loss_history)\n",
    "\n"
   ]
  },
  {
   "cell_type": "markdown",
   "id": "525502aa",
   "metadata": {},
   "source": [
    "# evaluation for thresholds -> 0.8, 0.5"
   ]
  },
  {
   "cell_type": "markdown",
   "id": "1f829446",
   "metadata": {},
   "source": [
    "# Evaluate on testing data"
   ]
  },
  {
   "cell_type": "code",
   "execution_count": 33,
   "id": "1358ac73",
   "metadata": {},
   "outputs": [
    {
     "name": "stdout",
     "output_type": "stream",
     "text": [
      "Using device: cuda\n",
      "Number of images to sample: 10\n",
      "Score threshold: 0.8\n",
      "IOU threshold: 0.5\n"
     ]
    }
   ],
   "source": [
    "\n",
    "# --- CONFIG ---\n",
    "DEVICE = torch.device(\"cuda\" if torch.cuda.is_available() else \"cpu\")\n",
    "BASE_DATA_DIR = \"../soccernet_data/tracking/test\"\n",
    "GT_FILENAME = \"gt.txt\"\n",
    "IMAGE_FOLDER = \"img1\"\n",
    "IMAGE_EXTS = ['.jpg', '.png']\n",
    "NUM_OUTPUT_SAMPLE_IMAGES = 10\n",
    "SCORE_THRESH = 0.8\n",
    "IOU_THRESH = 0.5\n",
    "\n",
    "model.eval()\n",
    "model.to(device)\n",
    "\n",
    "\n",
    "sequence_usage_frame_count = 30\n",
    "\n",
    "print(\"Using device:\", DEVICE)\n",
    "print(\"Number of images to sample:\", NUM_OUTPUT_SAMPLE_IMAGES)\n",
    "print(\"Score threshold:\", SCORE_THRESH)\n",
    "print(\"IOU threshold:\", IOU_THRESH)"
   ]
  },
  {
   "cell_type": "code",
   "execution_count": 50,
   "id": "f6b7954f",
   "metadata": {},
   "outputs": [
    {
     "name": "stdout",
     "output_type": "stream",
     "text": [
      "Processing sequences...\n"
     ]
    },
    {
     "name": "stderr",
     "output_type": "stream",
     "text": [
      "Sequences: 100%|██████████| 49/49 [02:13<00:00,  2.73s/it]"
     ]
    },
    {
     "name": "stdout",
     "output_type": "stream",
     "text": [
      "Number of sampled frames to output: 10\n",
      "Total frames processed: 1470\n",
      "Final metrics:\n",
      "\n",
      "Average Detection Accuracy over 1470 frames: 92.02%\n",
      "Precision: 0.911, Recall: 0.898 frames: 92.02%\n"
     ]
    },
    {
     "name": "stderr",
     "output_type": "stream",
     "text": [
      "\n"
     ]
    }
   ],
   "source": [
    "\n",
    "# --- EXECUTION ---\n",
    "results = []\n",
    "sample_frames = []\n",
    "total_tp = total_fp = total_fn = 0\n",
    "\n",
    "\n",
    "# Only use test sequences\n",
    "seq_dirs = []\n",
    "test_dir = os.path.join(\"../soccernet_data/tracking\", \"test\")\n",
    "if os.path.exists(test_dir):\n",
    "    for d in sorted(os.listdir(test_dir)):\n",
    "        full_path = os.path.join(test_dir, d)\n",
    "        if os.path.isdir(full_path):\n",
    "            seq_dirs.append((\"test\", d))\n",
    "\n",
    "\n",
    "\n",
    "print(\"Processing sequences...\")\n",
    "# Get 30 random frames from each sequence\n",
    "for split, seq_id in tqdm(seq_dirs, desc=\"Sequences\", dynamic_ncols=True):\n",
    "    seq_path = os.path.join(\"../soccernet_data/tracking\", split, seq_id)\n",
    "    img_dir = os.path.join(seq_path, IMAGE_FOLDER)\n",
    "    gt_path = os.path.join(seq_path, \"gt\", GT_FILENAME)\n",
    "    gt_dict = load_gt_boxes(gt_path)\n",
    "\n",
    "    if not os.path.exists(img_dir):\n",
    "        continue\n",
    "\n",
    "    all_img_paths = sorted([\n",
    "        os.path.join(img_dir, file)\n",
    "        for file in os.listdir(img_dir)\n",
    "        if any(file.lower().endswith(ext) for ext in IMAGE_EXTS)\n",
    "    ])\n",
    "\n",
    "    random.shuffle(all_img_paths)  # Shuffle to get random frames\n",
    "    all_img_paths = all_img_paths[:sequence_usage_frame_count]  # Sample random frames from each sequence\n",
    "\n",
    "    for idx, path in enumerate(all_img_paths):\n",
    "        try:\n",
    "            img = Image.open(path).convert(\"RGB\")\n",
    "        except Exception as e:\n",
    "            print(f\"Skipping corrupted image: {path} | Error: {e}\")\n",
    "            continue\n",
    "\n",
    "        img_tensor = transform(img).unsqueeze(0).to(DEVICE)\n",
    "        filename = os.path.basename(path)\n",
    "\n",
    "        try:\n",
    "            frame_id = int(filename.split('.')[0])\n",
    "        except ValueError:\n",
    "            continue\n",
    "        \n",
    "        gt_boxes = gt_dict.get(frame_id, [])\n",
    "\n",
    "        with torch.no_grad():\n",
    "            output = model(img_tensor.to(DEVICE))[0]\n",
    "\n",
    "        pred_boxes = output['boxes'][output['scores'] > SCORE_THRESH]\n",
    "\n",
    "\n",
    "        # Accuracy\n",
    "        if gt_boxes:\n",
    "            gt_tensor = torch.stack(gt_boxes).to(DEVICE)\n",
    "            if len(pred_boxes) > 0:\n",
    "                ious = compute_iou(pred_boxes, gt_tensor)\n",
    "                max_ious = ious.max(dim=1)[0]\n",
    "                acc = (max_ious > IOU_THRESH).float().mean().item()\n",
    "            else:\n",
    "                acc = 0.0\n",
    "        else:\n",
    "            acc = 1.0 if len(pred_boxes) == 0 else 0.0\n",
    "\n",
    "        results.append(acc)\n",
    "\n",
    "\n",
    "        # Precision / Recall\n",
    "        matched_gt = set()\n",
    "        tp = fp = 0\n",
    "        if len(pred_boxes) > 0 and len(gt_boxes) > 0:\n",
    "            gt_tensor = torch.stack(gt_boxes).to(DEVICE)\n",
    "            ious = compute_iou(pred_boxes, gt_tensor)\n",
    "            for i in range(len(pred_boxes)):\n",
    "                max_iou, gt_idx = ious[i].max(0)\n",
    "                if max_iou > IOU_THRESH and gt_idx.item() not in matched_gt:\n",
    "                    tp += 1\n",
    "                    matched_gt.add(gt_idx.item())\n",
    "                else:\n",
    "                    fp += 1\n",
    "        else:\n",
    "            tp = 0\n",
    "            fp = len(pred_boxes)\n",
    "\n",
    "        fn = len(gt_boxes) - len(matched_gt)\n",
    "        total_tp += tp\n",
    "        total_fp += fp\n",
    "        total_fn += fn\n",
    "\n",
    "        # Sampled frames\n",
    "        if len(sample_frames) < NUM_OUTPUT_SAMPLE_IMAGES and seq_id not in [s[0] for s in sample_frames]:\n",
    "            img_vis = plot_gt_and_detections(img_tensor[0], output, gt_boxes)\n",
    "            sample_frames.append((seq_id, filename, img_vis))\n",
    "\n",
    "# --- DISPLAY SUMMARY ---\n",
    "print(f\"Number of sampled frames to output: {len(sample_frames)}\")\n",
    "print(f\"Total frames processed: {len(results)}\")\n",
    "\n",
    "print(\"Final metrics:\")\n",
    "# Final metrics\n",
    "precision = total_tp / (total_tp + total_fp + 1e-6)\n",
    "recall = total_tp / (total_tp + total_fn + 1e-6)\n",
    "avg_acc = sum(results) / len(results) if results else 0\n",
    "print(f\"\\nAverage Detection Accuracy over {len(results)} frames: {avg_acc * 100:.2f}%\")\n",
    "print(f\"Precision: {precision:.3f}, Recall: {recall:.3f} frames: {avg_acc * 100:.2f}%\")\n",
    "\n"
   ]
  },
  {
   "cell_type": "code",
   "execution_count": 51,
   "id": "b99c3178",
   "metadata": {},
   "outputs": [],
   "source": [
    "\n",
    "# --- SHOW EXAMPLES ---\n",
    "# for seq_id, filename, img in sample_frames:\n",
    "#     plt.imshow(img)\n",
    "#     plt.title(f\"Sequence {seq_id}, Frame {filename}\\nRed = Prediction, Green = Ground Truth\")\n",
    "#     plt.axis(\"off\")\n",
    "#     plt.show()\n",
    "\n",
    "# Save sample frames\n",
    "# os.makedirs(\"sample_frames\", exist_ok=True)\n",
    "os.makedirs(\"8-5-score-iou-threshold/8-5-frcnn-v2.1_20f_25e-new\", exist_ok=True)\n",
    "for seq_id, filename, img in sample_frames:\n",
    "    img.save(os.path.join(\"8-5-score-iou-threshold/8-5-frcnn-v2.1_20f_25e-new\", f\"{seq_id}_{filename}\"))\n",
    "\n",
    "# Save metrics\n",
    "# os.makedirs(\"metrics\", exist_ok=True)\n",
    "with open(\"8-5-score-iou-threshold/8-5-frcnn-v2.1_20f_25e-new/metrics.txt\", \"w\") as f:\n",
    "    f.write(f\"Score Threshold: {SCORE_THRESH}\\n\")\n",
    "    f.write(f\"IOU Threshold: {IOU_THRESH}\\n\")\n",
    "    f.write(f\"Total frames processed: {len(results)}\\n\")\n",
    "    f.write(f\"Average Detection Accuracy: {avg_acc * 100:.2f}%\\n\")\n",
    "    f.write(f\"Precision: {precision:.3f}, Recall: {recall:.3f}\\n\")\n",
    "    f.write(f\"Total TP: {total_tp}, Total FP: {total_fp}, Total FN: {total_fn}\\n\")\n",
    "\n",
    "\n",
    "\n"
   ]
  },
  {
   "cell_type": "markdown",
   "id": "81634816",
   "metadata": {},
   "source": [
    "# evaluation for thresholds -> 0.5, 0.5"
   ]
  },
  {
   "cell_type": "code",
   "execution_count": null,
   "id": "c91a739f",
   "metadata": {},
   "outputs": [
    {
     "name": "stdout",
     "output_type": "stream",
     "text": [
      "Processing sequences...\n"
     ]
    },
    {
     "name": "stderr",
     "output_type": "stream",
     "text": [
      "Sequences: 100%|██████████| 49/49 [02:11<00:00,  2.68s/it]"
     ]
    },
    {
     "name": "stdout",
     "output_type": "stream",
     "text": [
      "Number of sampled frames to output: 10\n",
      "Total frames processed: 1470\n",
      "Final metrics:\n",
      "\n",
      "Average Detection Accuracy over 1470 frames: 93.66%\n",
      "Precision: 0.925, Recall: 0.923 frames: 93.66%\n"
     ]
    },
    {
     "name": "stderr",
     "output_type": "stream",
     "text": [
      "\n"
     ]
    }
   ],
   "source": [
    "SCORE_THRESH = 0.5\n",
    "IOU_THRESH = 0.5\n",
    "# --- EXECUTION ---\n",
    "results = []\n",
    "sample_frames = []\n",
    "total_tp = total_fp = total_fn = 0\n",
    "\n",
    "\n",
    "# Only use test sequences\n",
    "seq_dirs = []\n",
    "test_dir = os.path.join(\"../soccernet_data/tracking\", \"test\")\n",
    "if os.path.exists(test_dir):\n",
    "    for d in sorted(os.listdir(test_dir)):\n",
    "        full_path = os.path.join(test_dir, d)\n",
    "        if os.path.isdir(full_path):\n",
    "            seq_dirs.append((\"test\", d))\n",
    "\n",
    "\n",
    "\n",
    "print(\"Processing sequences...\")\n",
    "# Get 30 random frames from each sequence\n",
    "for split, seq_id in tqdm(seq_dirs, desc=\"Sequences\", dynamic_ncols=True):\n",
    "    seq_path = os.path.join(\"../soccernet_data/tracking\", split, seq_id)\n",
    "    img_dir = os.path.join(seq_path, IMAGE_FOLDER)\n",
    "    gt_path = os.path.join(seq_path, \"gt\", GT_FILENAME)\n",
    "    gt_dict = load_gt_boxes(gt_path)\n",
    "\n",
    "    if not os.path.exists(img_dir):\n",
    "        continue\n",
    "\n",
    "    all_img_paths = sorted([\n",
    "        os.path.join(img_dir, file)\n",
    "        for file in os.listdir(img_dir)\n",
    "        if any(file.lower().endswith(ext) for ext in IMAGE_EXTS)\n",
    "    ])\n",
    "\n",
    "    random.shuffle(all_img_paths)  # Shuffle to get random frames\n",
    "    all_img_paths = all_img_paths[:sequence_usage_frame_count]  # Sample random frames from each sequence\n",
    "\n",
    "    for idx, path in enumerate(all_img_paths):\n",
    "        try:\n",
    "            img = Image.open(path).convert(\"RGB\")\n",
    "        except Exception as e:\n",
    "            print(f\"Skipping corrupted image: {path} | Error: {e}\")\n",
    "            continue\n",
    "\n",
    "        img_tensor = transform(img).unsqueeze(0).to(DEVICE)\n",
    "        filename = os.path.basename(path)\n",
    "\n",
    "        try:\n",
    "            frame_id = int(filename.split('.')[0])\n",
    "        except ValueError:\n",
    "            continue\n",
    "        \n",
    "        gt_boxes = gt_dict.get(frame_id, [])\n",
    "\n",
    "        with torch.no_grad():\n",
    "            output = model(img_tensor.to(DEVICE))[0]\n",
    "\n",
    "        pred_boxes = output['boxes'][output['scores'] > SCORE_THRESH]\n",
    "\n",
    "\n",
    "        # Accuracy\n",
    "        if gt_boxes:\n",
    "            gt_tensor = torch.stack(gt_boxes).to(DEVICE)\n",
    "            if len(pred_boxes) > 0:\n",
    "                ious = compute_iou(pred_boxes, gt_tensor)\n",
    "                max_ious = ious.max(dim=1)[0]\n",
    "                acc = (max_ious > IOU_THRESH).float().mean().item()\n",
    "            else:\n",
    "                acc = 0.0\n",
    "        else:\n",
    "            acc = 1.0 if len(pred_boxes) == 0 else 0.0\n",
    "\n",
    "        results.append(acc)\n",
    "\n",
    "\n",
    "        # Precision / Recall\n",
    "        matched_gt = set()\n",
    "        tp = fp = 0\n",
    "        if len(pred_boxes) > 0 and len(gt_boxes) > 0:\n",
    "            gt_tensor = torch.stack(gt_boxes).to(DEVICE)\n",
    "            ious = compute_iou(pred_boxes, gt_tensor)\n",
    "            for i in range(len(pred_boxes)):\n",
    "                max_iou, gt_idx = ious[i].max(0)\n",
    "                if max_iou > IOU_THRESH and gt_idx.item() not in matched_gt:\n",
    "                    tp += 1\n",
    "                    matched_gt.add(gt_idx.item())\n",
    "                else:\n",
    "                    fp += 1\n",
    "        else:\n",
    "            tp = 0\n",
    "            fp = len(pred_boxes)\n",
    "\n",
    "        fn = len(gt_boxes) - len(matched_gt)\n",
    "        total_tp += tp\n",
    "        total_fp += fp\n",
    "        total_fn += fn\n",
    "\n",
    "        # Sampled frames\n",
    "        if len(sample_frames) < NUM_OUTPUT_SAMPLE_IMAGES and seq_id not in [s[0] for s in sample_frames]:\n",
    "            img_vis = plot_gt_and_detections(img_tensor[0], output, gt_boxes)\n",
    "            sample_frames.append((seq_id, filename, img_vis))\n",
    "\n",
    "# --- DISPLAY SUMMARY ---\n",
    "print(f\"Number of sampled frames to output: {len(sample_frames)}\")\n",
    "print(f\"Total frames processed: {len(results)}\")\n",
    "\n",
    "print(\"Final metrics:\")\n",
    "# Final metrics\n",
    "precision = total_tp / (total_tp + total_fp + 1e-6)\n",
    "recall = total_tp / (total_tp + total_fn + 1e-6)\n",
    "avg_acc = sum(results) / len(results) if results else 0\n",
    "print(f\"\\nAverage Detection Accuracy over {len(results)} frames: {avg_acc * 100:.2f}%\")\n",
    "print(f\"Precision: {precision:.3f}, Recall: {recall:.3f} frames: {avg_acc * 100:.2f}%\")\n",
    "\n"
   ]
  },
  {
   "cell_type": "code",
   "execution_count": 43,
   "id": "e2a51ee7",
   "metadata": {},
   "outputs": [],
   "source": [
    "\n",
    "# Save sample frames\n",
    "\n",
    "for seq_id, filename, img in sample_frames:\n",
    "    img.save(os.path.join(\"5-5-score-iou-threshold/5-5-frcnn-v2.1_20f_25e\", f\"{seq_id}_{filename}\"))\n",
    "\n",
    "# Save metrics\n",
    "# os.makedirs(\"metrics\", exist_ok=True)\n",
    "with open(\"5-5-score-iou-threshold/5-5-frcnn-v2.1_20f_25e/metrics.txt\", \"w\") as f:\n",
    "    f.write(f\"Score Threshold: {SCORE_THRESH}\\n\")\n",
    "    f.write(f\"IOU Threshold: {IOU_THRESH}\\n\")\n",
    "    f.write(f\"Total frames processed: {len(results)}\\n\")\n",
    "    f.write(f\"Average Detection Accuracy: {avg_acc * 100:.2f}%\\n\")\n",
    "    f.write(f\"Precision: {precision:.3f}, Recall: {recall:.3f}\\n\")\n",
    "    f.write(f\"Total TP: {total_tp}, Total FP: {total_fp}, Total FN: {total_fn}\\n\")\n",
    "\n",
    "\n",
    "\n"
   ]
  },
  {
   "cell_type": "code",
   "execution_count": null,
   "id": "7d29fe8a",
   "metadata": {},
   "outputs": [],
   "source": []
  }
 ],
 "metadata": {
  "kernelspec": {
   "display_name": "practice",
   "language": "python",
   "name": "python3"
  },
  "language_info": {
   "codemirror_mode": {
    "name": "ipython",
    "version": 3
   },
   "file_extension": ".py",
   "mimetype": "text/x-python",
   "name": "python",
   "nbconvert_exporter": "python",
   "pygments_lexer": "ipython3",
   "version": "3.10.12"
  }
 },
 "nbformat": 4,
 "nbformat_minor": 5
}
